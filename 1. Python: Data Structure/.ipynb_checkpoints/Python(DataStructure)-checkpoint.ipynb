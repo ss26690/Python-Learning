{
 "cells": [
  {
   "cell_type": "markdown",
   "metadata": {},
   "source": [
    "# Python: Data Structures\n",
    "\n",
    "### List\n",
    "- A List can store a sequence of objects.\n",
    "- There objects can be of various types."
   ]
  },
  {
   "cell_type": "code",
   "execution_count": 1,
   "metadata": {},
   "outputs": [
    {
     "name": "stdout",
     "output_type": "stream",
     "text": [
      "['Hello', 12, 'world', 99.995, 'me']\n"
     ]
    },
    {
     "data": {
      "text/plain": [
       "list"
      ]
     },
     "execution_count": 1,
     "metadata": {},
     "output_type": "execute_result"
    }
   ],
   "source": [
    "myList = [\"Hello\", 12, \"world\", 99.995, \"me\"]    # A List can have both String and integer values.\n",
    "print(myList)\n",
    "type(myList)"
   ]
  },
  {
   "cell_type": "markdown",
   "metadata": {},
   "source": [
    "#### A List be Indexed in the same way as strings"
   ]
  },
  {
   "cell_type": "code",
   "execution_count": 2,
   "metadata": {},
   "outputs": [
    {
     "name": "stdout",
     "output_type": "stream",
     "text": [
      "Hello\n",
      "[12, 'world', 99.995]\n",
      "me\n"
     ]
    }
   ],
   "source": [
    "print(myList[0])\n",
    "print(myList[1:4])\n",
    "print(myList[-1])"
   ]
  },
  {
   "cell_type": "code",
   "execution_count": 3,
   "metadata": {},
   "outputs": [
    {
     "name": "stdout",
     "output_type": "stream",
     "text": [
      "['world', 99.995, 'me']\n"
     ]
    }
   ],
   "source": [
    "print(myList[2:])"
   ]
  },
  {
   "cell_type": "markdown",
   "metadata": {},
   "source": [
    "#### List can be concatenated like string"
   ]
  },
  {
   "cell_type": "code",
   "execution_count": 4,
   "metadata": {},
   "outputs": [],
   "source": [
    "a = [1, 2, 3]\n",
    "b = [\"A\", \"B\", \"C\"]\n",
    "c = [\"A\", 500, \"C\"]"
   ]
  },
  {
   "cell_type": "code",
   "execution_count": 5,
   "metadata": {},
   "outputs": [
    {
     "data": {
      "text/plain": [
       "['A', 'B', 'C', 'A', 500, 'C']"
      ]
     },
     "execution_count": 5,
     "metadata": {},
     "output_type": "execute_result"
    }
   ],
   "source": [
    "b + c"
   ]
  },
  {
   "cell_type": "code",
   "execution_count": 6,
   "metadata": {},
   "outputs": [
    {
     "data": {
      "text/plain": [
       "[1, 2, 3, 'A', 'B', 'C', 'A', 500, 'C']"
      ]
     },
     "execution_count": 6,
     "metadata": {},
     "output_type": "execute_result"
    }
   ],
   "source": [
    "a + b + c"
   ]
  },
  {
   "cell_type": "markdown",
   "metadata": {},
   "source": [
    "#### more on List"
   ]
  },
  {
   "cell_type": "code",
   "execution_count": 7,
   "metadata": {},
   "outputs": [
    {
     "data": {
      "text/plain": [
       "6"
      ]
     },
     "execution_count": 7,
     "metadata": {},
     "output_type": "execute_result"
    }
   ],
   "source": [
    "myList = [\"Banglore\", \"Delhi\", \"Chennai\", 2000, 3000.56, \"Cool\"]\n",
    "len(myList)   # Reture number of element in list"
   ]
  },
  {
   "cell_type": "markdown",
   "metadata": {},
   "source": [
    "#### Removing items from a list\n",
    "       An object can be remove from the list by using del(), remove(), pop() functions."
   ]
  },
  {
   "cell_type": "code",
   "execution_count": 8,
   "metadata": {},
   "outputs": [
    {
     "data": {
      "text/plain": [
       "['Banglore', 'Delhi', 'Chennai', 2000, 3000.56]"
      ]
     },
     "execution_count": 8,
     "metadata": {},
     "output_type": "execute_result"
    }
   ],
   "source": [
    "del(myList[5])\n",
    "myList"
   ]
  },
  {
   "cell_type": "code",
   "execution_count": 9,
   "metadata": {},
   "outputs": [
    {
     "name": "stdout",
     "output_type": "stream",
     "text": [
      "['Hello', 'World', 45.6]\n"
     ]
    }
   ],
   "source": [
    "myList = [\"Hello\", 34, \"World\", 45.6]\n",
    "myList.remove(34)\n",
    "print(myList)"
   ]
  },
  {
   "cell_type": "code",
   "execution_count": 10,
   "metadata": {},
   "outputs": [
    {
     "name": "stdout",
     "output_type": "stream",
     "text": [
      "[2, 3, 4, 5, 8]\n"
     ]
    }
   ],
   "source": [
    "list1 = [2,3,4,5,7,8]\n",
    "list1.pop(4)     # Here the argument refers to the positional value.\n",
    "print(list1)"
   ]
  },
  {
   "cell_type": "markdown",
   "metadata": {},
   "source": [
    "#### Checking for an existance of an element in the list"
   ]
  },
  {
   "cell_type": "code",
   "execution_count": 11,
   "metadata": {},
   "outputs": [
    {
     "data": {
      "text/plain": [
       "True"
      ]
     },
     "execution_count": 11,
     "metadata": {},
     "output_type": "execute_result"
    }
   ],
   "source": [
    "4 in list1"
   ]
  },
  {
   "cell_type": "code",
   "execution_count": 12,
   "metadata": {},
   "outputs": [
    {
     "data": {
      "text/plain": [
       "True"
      ]
     },
     "execution_count": 12,
     "metadata": {},
     "output_type": "execute_result"
    }
   ],
   "source": [
    "\"World\" in myList"
   ]
  },
  {
   "cell_type": "code",
   "execution_count": 13,
   "metadata": {},
   "outputs": [
    {
     "data": {
      "text/plain": [
       "False"
      ]
     },
     "execution_count": 13,
     "metadata": {},
     "output_type": "execute_result"
    }
   ],
   "source": [
    "\"World\" in list1"
   ]
  },
  {
   "cell_type": "code",
   "execution_count": 15,
   "metadata": {},
   "outputs": [
    {
     "data": {
      "text/plain": [
       "False"
      ]
     },
     "execution_count": 15,
     "metadata": {},
     "output_type": "execute_result"
    }
   ],
   "source": [
    "\"World\" not in myList"
   ]
  },
  {
   "cell_type": "code",
   "execution_count": 17,
   "metadata": {},
   "outputs": [
    {
     "data": {
      "text/plain": [
       "True"
      ]
     },
     "execution_count": 17,
     "metadata": {},
     "output_type": "execute_result"
    }
   ],
   "source": [
    "\"World\" not in list1"
   ]
  },
  {
   "cell_type": "markdown",
   "metadata": {},
   "source": [
    "#### Max and Min\n",
    "\n",
    "      we can check the maximum and minimum value in the list by using max() and min() function."
   ]
  },
  {
   "cell_type": "code",
   "execution_count": 21,
   "metadata": {},
   "outputs": [
    {
     "name": "stdout",
     "output_type": "stream",
     "text": [
      "max:  7\n",
      "min:  1\n"
     ]
    }
   ],
   "source": [
    "myList = [1,2,3,4,5,6,7]\n",
    "\n",
    "print(\"max: \",max(myList))\n",
    "print(\"min: \",min(myList))"
   ]
  },
  {
   "cell_type": "markdown",
   "metadata": {},
   "source": [
    "#### Note: \n",
    "  max() and min() function only work with integers. A list cannot use with string."
   ]
  },
  {
   "cell_type": "markdown",
   "metadata": {},
   "source": [
    "## Appending, Extending and Inserting in List\n",
    "\n",
    "### Appending"
   ]
  },
  {
   "cell_type": "code",
   "execution_count": 28,
   "metadata": {},
   "outputs": [
    {
     "name": "stdout",
     "output_type": "stream",
     "text": [
      "[1, 2, 3, 4, 6]\n"
     ]
    }
   ],
   "source": [
    "l1 = [1,2,3,4]\n",
    "l1.append(6)\n",
    "print(l1)"
   ]
  },
  {
   "cell_type": "code",
   "execution_count": 32,
   "metadata": {},
   "outputs": [
    {
     "name": "stdout",
     "output_type": "stream",
     "text": [
      "[1, 2, 3, 4, 6, [4, 9, 5]]\n"
     ]
    }
   ],
   "source": [
    "l1.append([4,9,5])                          # append(values)\n",
    "print(l1)"
   ]
  },
  {
   "cell_type": "markdown",
   "metadata": {},
   "source": [
    "#### Extending"
   ]
  },
  {
   "cell_type": "code",
   "execution_count": 33,
   "metadata": {},
   "outputs": [
    {
     "name": "stdout",
     "output_type": "stream",
     "text": [
      "[1, 2, 3, 4, 5, 6, 4, 6, 8]\n"
     ]
    }
   ],
   "source": [
    "l2 = [1,2,3,4,5]\n",
    "l2.extend([6,4,6,8])                             # extend(values)\n",
    "print(l2)"
   ]
  },
  {
   "cell_type": "markdown",
   "metadata": {},
   "source": [
    "#### Inserting"
   ]
  },
  {
   "cell_type": "code",
   "execution_count": 34,
   "metadata": {},
   "outputs": [
    {
     "name": "stdout",
     "output_type": "stream",
     "text": [
      "[1, 2, 99, 3, 4, 5]\n"
     ]
    }
   ],
   "source": [
    "l3 = [1,2,3,4,5]\n",
    "l3.insert(2,99)                      # insert(index,value)\n",
    "print(l3)"
   ]
  },
  {
   "cell_type": "markdown",
   "metadata": {},
   "source": [
    "### Sorting a list"
   ]
  },
  {
   "cell_type": "code",
   "execution_count": 40,
   "metadata": {},
   "outputs": [
    {
     "name": "stdout",
     "output_type": "stream",
     "text": [
      "[23, 33, 33, 45, 45, 67, 67, 88, 550]\n"
     ]
    }
   ],
   "source": [
    "l1 = [88,33,45,67,33,23,45,67,550]\n",
    "l1.sort()                       # sort() function only return sorted arrary it can change in orignal array.\n",
    "print(l1)"
   ]
  },
  {
   "cell_type": "code",
   "execution_count": 41,
   "metadata": {},
   "outputs": [
    {
     "name": "stdout",
     "output_type": "stream",
     "text": [
      "[23, 33, 33, 45, 45, 67, 67, 88, 550]\n",
      "[88, 33, 45, 67, 33, 23, 45, 67, 550]\n"
     ]
    }
   ],
   "source": [
    "l2 = [88,33,45,67,33,23,45,67,550]\n",
    "print(sorted(l2))                 # sorted() function only return sorted arrary it cannot change in orignal array.\n",
    "print(l2)"
   ]
  },
  {
   "cell_type": "markdown",
   "metadata": {},
   "source": [
    "#### Reassigning the value of the list element"
   ]
  },
  {
   "cell_type": "code",
   "execution_count": 42,
   "metadata": {},
   "outputs": [
    {
     "name": "stdout",
     "output_type": "stream",
     "text": [
      "[88, 33, 45, 67, 33, 23, 45, 67, 550]\n",
      "[88, 33, 45, 99, 33, 23, 45, 67, 550]\n"
     ]
    }
   ],
   "source": [
    "print(l2)\n",
    "l2[3] = 99\n",
    "print(l2)"
   ]
  },
  {
   "cell_type": "markdown",
   "metadata": {},
   "source": [
    "## Tuples\n",
    "######         Tuples are very similar to lists"
   ]
  },
  {
   "cell_type": "code",
   "execution_count": 45,
   "metadata": {},
   "outputs": [
    {
     "name": "stdout",
     "output_type": "stream",
     "text": [
      "('welcome', 21.223, 'hello world', 45)\n",
      "<class 'tuple'>\n"
     ]
    }
   ],
   "source": [
    "myTup = ('welcome', 21.223, \"hello world\", 45)\n",
    "print(myTup)\n",
    "print(type(myTup))"
   ]
  },
  {
   "cell_type": "markdown",
   "metadata": {},
   "source": [
    "### How are list and tuples different?\n",
    "- Elements in a tuple cannot be edited once assigned.\n",
    "- A tuple cannot be appended to or extended in anyway.\n",
    "- A tuple is immutable.\n",
    "- Lists are mutable.\n",
    "- You can expand list to include more objects.\n",
    "- Tuples are indexed aimilaer to lists"
   ]
  },
  {
   "cell_type": "code",
   "execution_count": 50,
   "metadata": {},
   "outputs": [
    {
     "name": "stdout",
     "output_type": "stream",
     "text": [
      "welcome\n",
      "(21.223, 'hello world', 45)\n",
      "21.223\n",
      "('hello world', 45)\n"
     ]
    }
   ],
   "source": [
    "print(myTup[0])\n",
    "print(myTup[1:4])\n",
    "print(myTup[-3])\n",
    "print(myTup[2:])"
   ]
  },
  {
   "cell_type": "markdown",
   "metadata": {},
   "source": [
    "## Dictionaries\n",
    "- A dictionary is a type of collection which consists of key, vaalue pairs.\n",
    "- The keys and values can be of any type.\n",
    "- A dictionary is indexed through the keys."
   ]
  },
  {
   "cell_type": "code",
   "execution_count": 52,
   "metadata": {},
   "outputs": [
    {
     "name": "stdout",
     "output_type": "stream",
     "text": [
      "{'JJ': 25, 'DD': 50, 'EE': 44, 1: 34}\n",
      "25\n"
     ]
    }
   ],
   "source": [
    "ex_di = {\"JJ\":25, \"DD\":50, \"EE\":44, 1: 34}\n",
    "print(ex_di)\n",
    "print(ex_di['JJ']) # a dictionary is indexed through the assigned keys."
   ]
  },
  {
   "cell_type": "markdown",
   "metadata": {},
   "source": [
    "## Sets\n",
    "- A set is an unordered collection data type that is iterable, mutable, and has no duplicate elements."
   ]
  },
  {
   "cell_type": "code",
   "execution_count": 55,
   "metadata": {},
   "outputs": [
    {
     "data": {
      "text/plain": [
       "{'a', 'b', 'c', 'd', 'e', 'f', 'g'}"
      ]
     },
     "execution_count": 55,
     "metadata": {},
     "output_type": "execute_result"
    }
   ],
   "source": [
    "s = {'a','b','c','d','e','f','g','a','d','e'}\n",
    "s"
   ]
  },
  {
   "cell_type": "code",
   "execution_count": null,
   "metadata": {},
   "outputs": [],
   "source": []
  }
 ],
 "metadata": {
  "kernelspec": {
   "display_name": "Python 3",
   "language": "python",
   "name": "python3"
  },
  "language_info": {
   "codemirror_mode": {
    "name": "ipython",
    "version": 3
   },
   "file_extension": ".py",
   "mimetype": "text/x-python",
   "name": "python",
   "nbconvert_exporter": "python",
   "pygments_lexer": "ipython3",
   "version": "3.7.6"
  }
 },
 "nbformat": 4,
 "nbformat_minor": 4
}
